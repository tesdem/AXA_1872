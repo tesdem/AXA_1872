{
 "cells": [
  {
   "cell_type": "markdown",
   "metadata": {
    "id": "7S8Fstj3KYGO"
   },
   "source": [
    "## Predicting Mental Helath  <br>\n",
    "Use trained machine learning model to predict History of Mental Illness given a test dataset"
   ]
  },
  {
   "cell_type": "code",
   "execution_count": 3,
   "metadata": {
    "id": "sRrcTZhVWJLE"
   },
   "outputs": [],
   "source": [
    "# Import necessary python libraries\n",
    "#import numpy as np\n",
    "import pandas as pd\n"
   ]
  },
  {
   "cell_type": "code",
   "execution_count": 10,
   "metadata": {
    "id": "Lm-GyP3XYSJu"
   },
   "outputs": [],
   "source": [
    "import pickle\n",
    "# Load the model from the file\n",
    "import warnings\n",
    "warnings.filterwarnings('ignore') # ignore warnings when sure\n",
    "with open('Predict_Mental_health_model.pkl', 'rb') as file:\n",
    "\n",
    "    loaded_model = pickle.load(file)"
   ]
  },
  {
   "cell_type": "code",
   "execution_count": 11,
   "metadata": {
    "id": "iv5DdHBwn92B"
   },
   "outputs": [],
   "source": [
    "# Reading depression datset - this is as an example of brand new datset\n",
    "\n",
    "X_test = pd.read_csv('depression_test.csv')\n",
    "X_test = X_test.drop(['Name','Age', 'Number of Children', 'Income','History of Mental Illness'], axis=1)"
   ]
  },
  {
   "cell_type": "code",
   "execution_count": 12,
   "metadata": {
    "id": "l6GyhqcSeFBk"
   },
   "outputs": [
    {
     "data": {
      "text/plain": [
       "array([0, 0, 0, ..., 0, 0, 0], dtype=int64)"
      ]
     },
     "execution_count": 12,
     "metadata": {},
     "output_type": "execute_result"
    }
   ],
   "source": [
    "# Use the loaded model to make predictions\n",
    "new_predictions = loaded_model.predict(X_test)\n",
    "new_predictions"
   ]
  },
  {
   "cell_type": "code",
   "execution_count": 13,
   "metadata": {
    "id": "-rW5SuaEdz86"
   },
   "outputs": [],
   "source": [
    "# convert predictions into dataframe\n",
    "new_predictions= pd.DataFrame(new_predictions)\n",
    "# save predicted values to csv for sharing\n",
    "new_predictions.to_csv('prediction_test.csv')"
   ]
  },
  {
   "cell_type": "code",
   "execution_count": null,
   "metadata": {},
   "outputs": [],
   "source": []
  }
 ],
 "metadata": {
  "colab": {
   "authorship_tag": "ABX9TyM+62/fHrEOAyrYcRFCw+qZ",
   "machine_shape": "hm",
   "provenance": [
    {
     "file_id": "1VqZvywlk5AQXCKqVcrg3xf5-GcbEKt7i",
     "timestamp": 1732891205096
    },
    {
     "file_id": "1NN1_7Mupgh1CzAuLP8mPwx2-nGq2XBeV",
     "timestamp": 1732786935872
    },
    {
     "file_id": "1SOydCO9DSiYI53hDMhYH1dGi5z6_9Sau",
     "timestamp": 1715329892369
    },
    {
     "file_id": "1jthSHqWWO3tK0R-sMaq09FHwMVHqiRse",
     "timestamp": 1713773183957
    },
    {
     "file_id": "1LMr-ZG5bmWe4XlaRNCMP4OYP0U4sc46W",
     "timestamp": 1713084289268
    },
    {
     "file_id": "1f3AQ-90HU0TDCQV0IRiY4n37z-jii1UI",
     "timestamp": 1712768241858
    },
    {
     "file_id": "1y2kEGekEY4waTN77IRVAUR2GIGJLiqbM",
     "timestamp": 1712734112410
    },
    {
     "file_id": "1dJ8hDEocdD0Gtr9J3AvE1GfJU-vV-bF3",
     "timestamp": 1711381145742
    },
    {
     "file_id": "1nhV83BwgPcovgzHJMsVRib54hBsauSM8",
     "timestamp": 1709887157654
    },
    {
     "file_id": "1feVvP_yDAccnlK7V9Gs75ecpbXR6sEar",
     "timestamp": 1709210903567
    },
    {
     "file_id": "1dHRwVF3SgVeobaYiUKQQ5xryFF2PZrRw",
     "timestamp": 1709124224366
    },
    {
     "file_id": "1b7x590pBYgDZWVQt3RFMUZY8mcoGnVoh",
     "timestamp": 1708942448911
    },
    {
     "file_id": "1wZvUcxCFFXR4Ml9SRTeUv_lFGlxN7RwP",
     "timestamp": 1708887213550
    },
    {
     "file_id": "1bJzrwGMjNx0U1UfqigTXoGPHZQXHd_1E",
     "timestamp": 1708611190931
    }
   ]
  },
  "kernelspec": {
   "display_name": "Python 3 (ipykernel)",
   "language": "python",
   "name": "python3"
  },
  "language_info": {
   "codemirror_mode": {
    "name": "ipython",
    "version": 3
   },
   "file_extension": ".py",
   "mimetype": "text/x-python",
   "name": "python",
   "nbconvert_exporter": "python",
   "pygments_lexer": "ipython3",
   "version": "3.12.7"
  }
 },
 "nbformat": 4,
 "nbformat_minor": 4
}
